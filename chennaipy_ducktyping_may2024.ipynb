{
 "cells": [
  {
   "cell_type": "markdown",
   "id": "0f9d5970-56c4-423e-b37d-a173e973d171",
   "metadata": {},
   "source": [
    "# Duck Typing: Explained\n",
    "### ChennaiPy Meet - May 25th 2024"
   ]
  },
  {
   "cell_type": "code",
   "execution_count": 2,
   "id": "c4cf6a6a-a419-4d82-a713-1c9061bd64ad",
   "metadata": {},
   "outputs": [
    {
     "name": "stdout",
     "output_type": "stream",
     "text": [
      "\n",
      "When I see a bird\n",
      "that walks like a duck\n",
      "and swims like a duck\n",
      "and quacks like a duck,\n",
      "I call that bird - a duck!\n",
      "     - James Whitcomb Riley\n",
      "\n"
     ]
    }
   ],
   "source": [
    "print(\"\"\"\n",
    "When I see a bird\n",
    "that walks like a duck\n",
    "and swims like a duck\n",
    "and quacks like a duck,\n",
    "I call that bird - a duck!\n",
    "     - James Whitcomb Riley\n",
    "\"\"\")"
   ]
  },
  {
   "cell_type": "code",
   "execution_count": 6,
   "id": "da2e7fe6-e155-4af7-8b2e-cca2013fd12e",
   "metadata": {},
   "outputs": [],
   "source": [
    "def square(n):\n",
    "    return n*n"
   ]
  },
  {
   "cell_type": "code",
   "execution_count": 7,
   "id": "774b032d-f38e-462b-a3bd-45fdadca82df",
   "metadata": {},
   "outputs": [
    {
     "data": {
      "text/plain": [
       "4"
      ]
     },
     "execution_count": 7,
     "metadata": {},
     "output_type": "execute_result"
    }
   ],
   "source": [
    "square(2)"
   ]
  },
  {
   "cell_type": "code",
   "execution_count": 8,
   "id": "c29252b3-631d-459d-aa40-09c00a5176b3",
   "metadata": {},
   "outputs": [
    {
     "data": {
      "text/plain": [
       "5.289999999999999"
      ]
     },
     "execution_count": 8,
     "metadata": {},
     "output_type": "execute_result"
    }
   ],
   "source": [
    "square(2.3)"
   ]
  },
  {
   "cell_type": "code",
   "execution_count": 9,
   "id": "abfa3910-fdba-44dc-8084-8556502f40c5",
   "metadata": {},
   "outputs": [
    {
     "data": {
      "text/plain": [
       "(-7+24j)"
      ]
     },
     "execution_count": 9,
     "metadata": {},
     "output_type": "execute_result"
    }
   ],
   "source": [
    "square(3+4j)"
   ]
  },
  {
   "cell_type": "code",
   "execution_count": 10,
   "id": "d5bf5700-5598-4a0f-bc50-18c04e54c405",
   "metadata": {},
   "outputs": [
    {
     "ename": "TypeError",
     "evalue": "can't multiply sequence by non-int of type 'str'",
     "output_type": "error",
     "traceback": [
      "\u001b[0;31m---------------------------------------------------------------------------\u001b[0m",
      "\u001b[0;31mTypeError\u001b[0m                                 Traceback (most recent call last)",
      "Cell \u001b[0;32mIn[10], line 1\u001b[0m\n\u001b[0;32m----> 1\u001b[0m square(\u001b[38;5;124m\"\u001b[39m\u001b[38;5;124mhello\u001b[39m\u001b[38;5;124m\"\u001b[39m)\n",
      "Cell \u001b[0;32mIn[6], line 2\u001b[0m, in \u001b[0;36msquare\u001b[0;34m(n)\u001b[0m\n\u001b[1;32m      1\u001b[0m \u001b[38;5;28;01mdef\u001b[39;00m \u001b[38;5;21msquare\u001b[39m(n):\n\u001b[0;32m----> 2\u001b[0m     \u001b[38;5;28;01mreturn\u001b[39;00m n\u001b[38;5;241m*\u001b[39mn\n",
      "\u001b[0;31mTypeError\u001b[0m: can't multiply sequence by non-int of type 'str'"
     ]
    }
   ],
   "source": [
    "square(\"hello\")"
   ]
  },
  {
   "cell_type": "code",
   "execution_count": 14,
   "id": "aaf971f8-6ee9-4b4f-ae00-606d48a68299",
   "metadata": {},
   "outputs": [],
   "source": [
    "nums = [3, 2, 6, 3.2, 5, 7.2, 10]"
   ]
  },
  {
   "cell_type": "code",
   "execution_count": 11,
   "id": "d1b8e57f-f26f-4d6c-8a7d-34b6ee6c08b1",
   "metadata": {},
   "outputs": [],
   "source": [
    "values = [3, 2, 6, 3.2, \"a\", 5, \"b\", True, 7.2]"
   ]
  },
  {
   "cell_type": "code",
   "execution_count": 16,
   "id": "e7419069-f26a-456d-b10c-f2669b6e903f",
   "metadata": {},
   "outputs": [],
   "source": [
    "def apply_map(fn, data):\n",
    "    result = []\n",
    "    for v in data:\n",
    "        r = fn(v)\n",
    "        result.append(r)\n",
    "    return result"
   ]
  },
  {
   "cell_type": "code",
   "execution_count": 17,
   "id": "e970de32-4079-4f3d-b585-f0d52d6231fe",
   "metadata": {},
   "outputs": [
    {
     "data": {
      "text/plain": [
       "[9, 4, 36, 10.240000000000002, 25, 51.84, 100]"
      ]
     },
     "execution_count": 17,
     "metadata": {},
     "output_type": "execute_result"
    }
   ],
   "source": [
    "apply_map(square, nums)"
   ]
  },
  {
   "cell_type": "code",
   "execution_count": 18,
   "id": "a865af2e-cd9f-478d-a7e8-1e14bcb4e5b3",
   "metadata": {},
   "outputs": [
    {
     "ename": "TypeError",
     "evalue": "can't multiply sequence by non-int of type 'str'",
     "output_type": "error",
     "traceback": [
      "\u001b[0;31m---------------------------------------------------------------------------\u001b[0m",
      "\u001b[0;31mTypeError\u001b[0m                                 Traceback (most recent call last)",
      "Cell \u001b[0;32mIn[18], line 1\u001b[0m\n\u001b[0;32m----> 1\u001b[0m apply_map(square, values)\n",
      "Cell \u001b[0;32mIn[16], line 4\u001b[0m, in \u001b[0;36mapply_map\u001b[0;34m(fn, data)\u001b[0m\n\u001b[1;32m      2\u001b[0m result \u001b[38;5;241m=\u001b[39m []\n\u001b[1;32m      3\u001b[0m \u001b[38;5;28;01mfor\u001b[39;00m v \u001b[38;5;129;01min\u001b[39;00m data:\n\u001b[0;32m----> 4\u001b[0m     r \u001b[38;5;241m=\u001b[39m fn(v)\n\u001b[1;32m      5\u001b[0m     result\u001b[38;5;241m.\u001b[39mappend(r)\n\u001b[1;32m      6\u001b[0m \u001b[38;5;28;01mreturn\u001b[39;00m result\n",
      "Cell \u001b[0;32mIn[6], line 2\u001b[0m, in \u001b[0;36msquare\u001b[0;34m(n)\u001b[0m\n\u001b[1;32m      1\u001b[0m \u001b[38;5;28;01mdef\u001b[39;00m \u001b[38;5;21msquare\u001b[39m(n):\n\u001b[0;32m----> 2\u001b[0m     \u001b[38;5;28;01mreturn\u001b[39;00m n\u001b[38;5;241m*\u001b[39mn\n",
      "\u001b[0;31mTypeError\u001b[0m: can't multiply sequence by non-int of type 'str'"
     ]
    }
   ],
   "source": [
    "apply_map(square, values)"
   ]
  },
  {
   "cell_type": "code",
   "execution_count": 20,
   "id": "b0982062-07b4-423a-a20c-a821e39c77ff",
   "metadata": {},
   "outputs": [],
   "source": [
    "# The \"Look-Before-You-Leap (LBYL) approach #1\"\n",
    "def apply_map_lbyl(fn, data, default=None):\n",
    "    result = []\n",
    "    for v in data:\n",
    "        if type(v) in (int, float):\n",
    "            r = fn(v)\n",
    "        else:\n",
    "            r = default\n",
    "        result.append(r)\n",
    "    return result"
   ]
  },
  {
   "cell_type": "code",
   "execution_count": 24,
   "id": "28399d67-6236-4a62-8375-5e2645036941",
   "metadata": {},
   "outputs": [
    {
     "data": {
      "text/plain": [
       "[3, 2, 6, 3.2, 5, 7.2, 10]"
      ]
     },
     "execution_count": 24,
     "metadata": {},
     "output_type": "execute_result"
    }
   ],
   "source": [
    "nums"
   ]
  },
  {
   "cell_type": "code",
   "execution_count": 21,
   "id": "3426adf1-de90-4902-acae-1173791a1040",
   "metadata": {},
   "outputs": [
    {
     "data": {
      "text/plain": [
       "[9, 4, 36, 10.240000000000002, 25, 51.84, 100]"
      ]
     },
     "execution_count": 21,
     "metadata": {},
     "output_type": "execute_result"
    }
   ],
   "source": [
    "apply_map_lbyl(square, nums)"
   ]
  },
  {
   "cell_type": "code",
   "execution_count": 23,
   "id": "b9ff2986-4f75-4175-ade6-8cde7997955d",
   "metadata": {},
   "outputs": [
    {
     "data": {
      "text/plain": [
       "[3, 2, 6, 3.2, 'a', 5, 'b', True, 7.2]"
      ]
     },
     "execution_count": 23,
     "metadata": {},
     "output_type": "execute_result"
    }
   ],
   "source": [
    "values"
   ]
  },
  {
   "cell_type": "code",
   "execution_count": 22,
   "id": "608bcbfc-f07f-4743-b1ee-15e62aeaec73",
   "metadata": {},
   "outputs": [
    {
     "data": {
      "text/plain": [
       "[9, 4, 36, 10.240000000000002, None, 25, None, None, 51.84]"
      ]
     },
     "execution_count": 22,
     "metadata": {},
     "output_type": "execute_result"
    }
   ],
   "source": [
    "apply_map_lbyl(square, values)"
   ]
  },
  {
   "cell_type": "code",
   "execution_count": 25,
   "id": "7c06d8d9-9e1a-45e3-8121-b8d5a1c41eb6",
   "metadata": {},
   "outputs": [],
   "source": [
    "values2 = [3, 2, 6, 2+3j, 3.2, 'a', 5, 'b', True, 7.2]"
   ]
  },
  {
   "cell_type": "code",
   "execution_count": 26,
   "id": "28cb79e2-f221-44df-9bad-e393907d242c",
   "metadata": {},
   "outputs": [
    {
     "data": {
      "text/plain": [
       "[9, 4, 36, None, 10.240000000000002, None, 25, None, None, 51.84]"
      ]
     },
     "execution_count": 26,
     "metadata": {},
     "output_type": "execute_result"
    }
   ],
   "source": [
    "apply_map_lbyl(square, values2)"
   ]
  },
  {
   "cell_type": "code",
   "execution_count": 27,
   "id": "b7d5d870-b518-44c0-8d0b-a79a7ebdba00",
   "metadata": {},
   "outputs": [],
   "source": [
    "# The \"Look-Before-You-Leap (LBYL) approach #2\"\n",
    "# Generalization!\n",
    "\n",
    "from numbers import Number\n",
    "def apply_map_generalized(fn, data, default=None):\n",
    "    result = []\n",
    "    for v in data:\n",
    "        if isinstance(v, Number):\n",
    "            r = fn(v)\n",
    "        else:\n",
    "            r = default\n",
    "        result.append(r)\n",
    "    return result"
   ]
  },
  {
   "cell_type": "code",
   "execution_count": 28,
   "id": "966ba2e1-5f4d-48ca-9b95-fb23332d7afe",
   "metadata": {},
   "outputs": [
    {
     "data": {
      "text/plain": [
       "[9, 4, 36, 10.240000000000002, 25, 51.84, 100]"
      ]
     },
     "execution_count": 28,
     "metadata": {},
     "output_type": "execute_result"
    }
   ],
   "source": [
    "apply_map_generalized(square, nums)"
   ]
  },
  {
   "cell_type": "code",
   "execution_count": 29,
   "id": "ced171d4-4a78-4bab-949e-a8168ef9189f",
   "metadata": {},
   "outputs": [
    {
     "data": {
      "text/plain": [
       "[9, 4, 36, 10.240000000000002, None, 25, None, 1, 51.84]"
      ]
     },
     "execution_count": 29,
     "metadata": {},
     "output_type": "execute_result"
    }
   ],
   "source": [
    "apply_map_generalized(square, values)"
   ]
  },
  {
   "cell_type": "code",
   "execution_count": 30,
   "id": "13739d89-6211-422b-9159-d633ee7f1fc3",
   "metadata": {},
   "outputs": [
    {
     "data": {
      "text/plain": [
       "[9, 4, 36, (-5+12j), 10.240000000000002, None, 25, None, 1, 51.84]"
      ]
     },
     "execution_count": 30,
     "metadata": {},
     "output_type": "execute_result"
    }
   ],
   "source": [
    "apply_map_generalized(square, values2)"
   ]
  },
  {
   "cell_type": "markdown",
   "id": "1571627f-4adf-4754-a504-4b9a9ad4199c",
   "metadata": {},
   "source": [
    "### ... And now lets look at duck-typing approach!"
   ]
  },
  {
   "cell_type": "code",
   "execution_count": 31,
   "id": "0810e6a3-bed8-43ac-94f6-bc56628aeba9",
   "metadata": {},
   "outputs": [],
   "source": [
    "# Duck-typing approach\n",
    "\n",
    "def apply_map_ducktyping(fn, data, default=None):\n",
    "    result = []\n",
    "    for v in data:\n",
    "        try:\n",
    "            r = fn(v)\n",
    "        except:\n",
    "            r = default\n",
    "        result.append(r)\n",
    "    return result"
   ]
  },
  {
   "cell_type": "code",
   "execution_count": 32,
   "id": "d564ddc7-8de8-4919-8106-4b2445815378",
   "metadata": {},
   "outputs": [
    {
     "data": {
      "text/plain": [
       "[3, 2, 6, 3.2, 5, 7.2, 10]"
      ]
     },
     "execution_count": 32,
     "metadata": {},
     "output_type": "execute_result"
    }
   ],
   "source": [
    "nums"
   ]
  },
  {
   "cell_type": "code",
   "execution_count": 33,
   "id": "d0a8d756-4b89-43aa-993a-d31865f7f3a9",
   "metadata": {},
   "outputs": [
    {
     "data": {
      "text/plain": [
       "[9, 4, 36, 10.240000000000002, 25, 51.84, 100]"
      ]
     },
     "execution_count": 33,
     "metadata": {},
     "output_type": "execute_result"
    }
   ],
   "source": [
    "apply_map_ducktyping(square, nums)"
   ]
  },
  {
   "cell_type": "code",
   "execution_count": 34,
   "id": "69465df1-583e-4a2d-82e8-2e6c3719bda5",
   "metadata": {},
   "outputs": [
    {
     "data": {
      "text/plain": [
       "[9, 4, 36, 10.240000000000002, None, 25, None, 1, 51.84]"
      ]
     },
     "execution_count": 34,
     "metadata": {},
     "output_type": "execute_result"
    }
   ],
   "source": [
    "apply_map_ducktyping(square, values)"
   ]
  },
  {
   "cell_type": "code",
   "execution_count": 35,
   "id": "6ed938b6-d588-4cfc-94c0-9ea9cd35e162",
   "metadata": {},
   "outputs": [
    {
     "data": {
      "text/plain": [
       "[9, 4, 36, (-5+12j), 10.240000000000002, None, 25, None, 1, 51.84]"
      ]
     },
     "execution_count": 35,
     "metadata": {},
     "output_type": "execute_result"
    }
   ],
   "source": [
    "apply_map_ducktyping(square, values2)"
   ]
  },
  {
   "cell_type": "code",
   "execution_count": 39,
   "id": "755b600e-61af-45c7-b0e4-dd4e1c7259c0",
   "metadata": {},
   "outputs": [
    {
     "name": "stdout",
     "output_type": "stream",
     "text": [
      "('guido', 'barry', 'alex', 'raymond', 'nick')\n"
     ]
    }
   ],
   "source": [
    "users = \"guido\", \"barry\", \"alex\", \"raymond\", \"nick\"\n",
    "print(users)"
   ]
  },
  {
   "cell_type": "code",
   "execution_count": 40,
   "id": "cacb9903-1855-46c3-b6bd-d092acab18b4",
   "metadata": {},
   "outputs": [
    {
     "data": {
      "text/plain": [
       "[None, None, None, None, None]"
      ]
     },
     "execution_count": 40,
     "metadata": {},
     "output_type": "execute_result"
    }
   ],
   "source": [
    "apply_map(lambda u: u.upper(), users)"
   ]
  },
  {
   "cell_type": "code",
   "execution_count": 41,
   "id": "83403125-9c2e-4e7b-ae42-ab2308d4c841",
   "metadata": {},
   "outputs": [
    {
     "data": {
      "text/plain": [
       "[None, None, None, None, None]"
      ]
     },
     "execution_count": 41,
     "metadata": {},
     "output_type": "execute_result"
    }
   ],
   "source": [
    "apply_map_lbyl(lambda u: u.upper(), users)"
   ]
  },
  {
   "cell_type": "code",
   "execution_count": 43,
   "id": "ab5d33d9-0be1-4498-9464-bac26afd3eee",
   "metadata": {},
   "outputs": [
    {
     "data": {
      "text/plain": [
       "[None, None, None, None, None]"
      ]
     },
     "execution_count": 43,
     "metadata": {},
     "output_type": "execute_result"
    }
   ],
   "source": [
    "apply_map_generalized(lambda u: u.upper(), users)"
   ]
  },
  {
   "cell_type": "code",
   "execution_count": 42,
   "id": "f4b553a8-cd42-4f11-8f8e-a9a312e552c5",
   "metadata": {
    "scrolled": true
   },
   "outputs": [
    {
     "data": {
      "text/plain": [
       "['GUIDO', 'BARRY', 'ALEX', 'RAYMOND', 'NICK']"
      ]
     },
     "execution_count": 42,
     "metadata": {},
     "output_type": "execute_result"
    }
   ],
   "source": [
    "apply_map_ducktyping(lambda u: u.upper(), users)"
   ]
  },
  {
   "cell_type": "markdown",
   "id": "f40b59c5-2ebf-4d4d-95ba-ede1d6349a7f",
   "metadata": {},
   "source": [
    "https://meet.jit.si/moderated/c5d269a9a31bcb6d914915338d0001972870d86abe2590117baf6250d47ba905"
   ]
  }
 ],
 "metadata": {
  "kernelspec": {
   "display_name": "Python 3 (ipykernel)",
   "language": "python",
   "name": "python3"
  },
  "language_info": {
   "codemirror_mode": {
    "name": "ipython",
    "version": 3
   },
   "file_extension": ".py",
   "mimetype": "text/x-python",
   "name": "python",
   "nbconvert_exporter": "python",
   "pygments_lexer": "ipython3",
   "version": "3.11.7"
  }
 },
 "nbformat": 4,
 "nbformat_minor": 5
}
